{
 "cells": [
  {
   "cell_type": "markdown",
   "metadata": {},
   "source": [
    "# Reducing the effect of Urbanization using AI/ML"
   ]
  },
  {
   "cell_type": "markdown",
   "metadata": {},
   "source": [
    "### Team Members: Amal Salilan, Dhamotharan S, Sakthi, and Sangesh"
   ]
  },
  {
   "cell_type": "markdown",
   "metadata": {},
   "source": [
    "import pandas as pd \n",
    "import numpy as np \n",
    "import scipy as sp \n",
    "\n",
    "import math \n",
    "import sklearn.preprocessing as prep \n",
    "import matplotlib.pyplot as plt \n",
    " \n",
    "from matplotlib.pylab import rcParams "
   ]
  },
  {
   "cell_type": "code",
   "execution_count": 21,
   "metadata": {},
   "outputs": [],
   "source": [
    "from sklearn.preprocessing import StandardScaler, MinMaxScaler \n",
    "from sklearn.ensemble import RandomForestRegressor \n",
    "from sklearn.metrics import r2_score,mean_squared_error "
   ]
  },
  {
   "cell_type": "code",
   "execution_count": 22,
   "metadata": {},
   "outputs": [],
   "source": [
    "df = pd.read_csv('Dataset.csv')"
   ]
  },
  {
   "cell_type": "code",
   "execution_count": 23,
   "metadata": {},
   "outputs": [
    {
     "data": {
      "text/html": [
       "<div>\n",
       "<style scoped>\n",
       "    .dataframe tbody tr th:only-of-type {\n",
       "        vertical-align: middle;\n",
       "    }\n",
       "\n",
       "    .dataframe tbody tr th {\n",
       "        vertical-align: top;\n",
       "    }\n",
       "\n",
       "    .dataframe thead th {\n",
       "        text-align: right;\n",
       "    }\n",
       "</style>\n",
       "<table border=\"1\" class=\"dataframe\">\n",
       "  <thead>\n",
       "    <tr style=\"text-align: right;\">\n",
       "      <th></th>\n",
       "      <th>Index</th>\n",
       "      <th>Area</th>\n",
       "      <th>OE</th>\n",
       "      <th>COb</th>\n",
       "      <th>Area_left</th>\n",
       "      <th>considerble trees</th>\n",
       "      <th>considerable plants</th>\n",
       "      <th>Neem</th>\n",
       "      <th>Ash</th>\n",
       "      <th>Willow</th>\n",
       "      <th>Poplar</th>\n",
       "      <th>Ashok</th>\n",
       "      <th>Arjuna</th>\n",
       "      <th>Areca_palm</th>\n",
       "      <th>Weeping_fig</th>\n",
       "      <th>Grebera_Daisy</th>\n",
       "      <th>Aloe_vera</th>\n",
       "      <th>Tulsi</th>\n",
       "      <th>Pothos_plant</th>\n",
       "    </tr>\n",
       "  </thead>\n",
       "  <tbody>\n",
       "    <tr>\n",
       "      <th>0</th>\n",
       "      <td>1</td>\n",
       "      <td>3760</td>\n",
       "      <td>63038</td>\n",
       "      <td>4389</td>\n",
       "      <td>470</td>\n",
       "      <td>52</td>\n",
       "      <td>26</td>\n",
       "      <td>3</td>\n",
       "      <td>1</td>\n",
       "      <td>1</td>\n",
       "      <td>1</td>\n",
       "      <td>0</td>\n",
       "      <td>1</td>\n",
       "      <td>6</td>\n",
       "      <td>4</td>\n",
       "      <td>4</td>\n",
       "      <td>3</td>\n",
       "      <td>7</td>\n",
       "      <td>5</td>\n",
       "    </tr>\n",
       "    <tr>\n",
       "      <th>1</th>\n",
       "      <td>2</td>\n",
       "      <td>4310</td>\n",
       "      <td>72482</td>\n",
       "      <td>5019</td>\n",
       "      <td>539</td>\n",
       "      <td>60</td>\n",
       "      <td>30</td>\n",
       "      <td>3</td>\n",
       "      <td>1</td>\n",
       "      <td>1</td>\n",
       "      <td>1</td>\n",
       "      <td>0</td>\n",
       "      <td>1</td>\n",
       "      <td>6</td>\n",
       "      <td>4</td>\n",
       "      <td>4</td>\n",
       "      <td>3</td>\n",
       "      <td>7</td>\n",
       "      <td>6</td>\n",
       "    </tr>\n",
       "    <tr>\n",
       "      <th>2</th>\n",
       "      <td>3</td>\n",
       "      <td>5773</td>\n",
       "      <td>96918</td>\n",
       "      <td>6741</td>\n",
       "      <td>722</td>\n",
       "      <td>80</td>\n",
       "      <td>40</td>\n",
       "      <td>3</td>\n",
       "      <td>1</td>\n",
       "      <td>1</td>\n",
       "      <td>1</td>\n",
       "      <td>0</td>\n",
       "      <td>1</td>\n",
       "      <td>6</td>\n",
       "      <td>5</td>\n",
       "      <td>3</td>\n",
       "      <td>4</td>\n",
       "      <td>8</td>\n",
       "      <td>7</td>\n",
       "    </tr>\n",
       "    <tr>\n",
       "      <th>3</th>\n",
       "      <td>4</td>\n",
       "      <td>4384</td>\n",
       "      <td>73692</td>\n",
       "      <td>5103</td>\n",
       "      <td>548</td>\n",
       "      <td>61</td>\n",
       "      <td>30</td>\n",
       "      <td>3</td>\n",
       "      <td>1</td>\n",
       "      <td>1</td>\n",
       "      <td>2</td>\n",
       "      <td>2</td>\n",
       "      <td>1</td>\n",
       "      <td>7</td>\n",
       "      <td>7</td>\n",
       "      <td>8</td>\n",
       "      <td>5</td>\n",
       "      <td>13</td>\n",
       "      <td>6</td>\n",
       "    </tr>\n",
       "    <tr>\n",
       "      <th>4</th>\n",
       "      <td>5</td>\n",
       "      <td>7249</td>\n",
       "      <td>121723</td>\n",
       "      <td>8463</td>\n",
       "      <td>906</td>\n",
       "      <td>101</td>\n",
       "      <td>50</td>\n",
       "      <td>4</td>\n",
       "      <td>2</td>\n",
       "      <td>2</td>\n",
       "      <td>3</td>\n",
       "      <td>2</td>\n",
       "      <td>2</td>\n",
       "      <td>9</td>\n",
       "      <td>5</td>\n",
       "      <td>3</td>\n",
       "      <td>4</td>\n",
       "      <td>8</td>\n",
       "      <td>9</td>\n",
       "    </tr>\n",
       "    <tr>\n",
       "      <th>...</th>\n",
       "      <td>...</td>\n",
       "      <td>...</td>\n",
       "      <td>...</td>\n",
       "      <td>...</td>\n",
       "      <td>...</td>\n",
       "      <td>...</td>\n",
       "      <td>...</td>\n",
       "      <td>...</td>\n",
       "      <td>...</td>\n",
       "      <td>...</td>\n",
       "      <td>...</td>\n",
       "      <td>...</td>\n",
       "      <td>...</td>\n",
       "      <td>...</td>\n",
       "      <td>...</td>\n",
       "      <td>...</td>\n",
       "      <td>...</td>\n",
       "      <td>...</td>\n",
       "      <td>...</td>\n",
       "    </tr>\n",
       "    <tr>\n",
       "      <th>495</th>\n",
       "      <td>496</td>\n",
       "      <td>5146</td>\n",
       "      <td>86515</td>\n",
       "      <td>6006</td>\n",
       "      <td>643</td>\n",
       "      <td>72</td>\n",
       "      <td>36</td>\n",
       "      <td>2</td>\n",
       "      <td>0</td>\n",
       "      <td>0</td>\n",
       "      <td>1</td>\n",
       "      <td>0</td>\n",
       "      <td>0</td>\n",
       "      <td>2</td>\n",
       "      <td>0</td>\n",
       "      <td>7</td>\n",
       "      <td>7</td>\n",
       "      <td>5</td>\n",
       "      <td>6</td>\n",
       "    </tr>\n",
       "    <tr>\n",
       "      <th>496</th>\n",
       "      <td>497</td>\n",
       "      <td>7517</td>\n",
       "      <td>126327</td>\n",
       "      <td>8757</td>\n",
       "      <td>940</td>\n",
       "      <td>104</td>\n",
       "      <td>52</td>\n",
       "      <td>4</td>\n",
       "      <td>1</td>\n",
       "      <td>1</td>\n",
       "      <td>4</td>\n",
       "      <td>1</td>\n",
       "      <td>1</td>\n",
       "      <td>9</td>\n",
       "      <td>8</td>\n",
       "      <td>9</td>\n",
       "      <td>7</td>\n",
       "      <td>15</td>\n",
       "      <td>8</td>\n",
       "    </tr>\n",
       "    <tr>\n",
       "      <th>497</th>\n",
       "      <td>498</td>\n",
       "      <td>7269</td>\n",
       "      <td>122210</td>\n",
       "      <td>8484</td>\n",
       "      <td>909</td>\n",
       "      <td>101</td>\n",
       "      <td>50</td>\n",
       "      <td>4</td>\n",
       "      <td>1</td>\n",
       "      <td>2</td>\n",
       "      <td>3</td>\n",
       "      <td>1</td>\n",
       "      <td>1</td>\n",
       "      <td>4</td>\n",
       "      <td>9</td>\n",
       "      <td>7</td>\n",
       "      <td>8</td>\n",
       "      <td>5</td>\n",
       "      <td>5</td>\n",
       "    </tr>\n",
       "    <tr>\n",
       "      <th>498</th>\n",
       "      <td>499</td>\n",
       "      <td>4637</td>\n",
       "      <td>77927</td>\n",
       "      <td>5397</td>\n",
       "      <td>580</td>\n",
       "      <td>64</td>\n",
       "      <td>32</td>\n",
       "      <td>3</td>\n",
       "      <td>1</td>\n",
       "      <td>1</td>\n",
       "      <td>2</td>\n",
       "      <td>1</td>\n",
       "      <td>0</td>\n",
       "      <td>5</td>\n",
       "      <td>6</td>\n",
       "      <td>5</td>\n",
       "      <td>5</td>\n",
       "      <td>6</td>\n",
       "      <td>8</td>\n",
       "    </tr>\n",
       "    <tr>\n",
       "      <th>499</th>\n",
       "      <td>500</td>\n",
       "      <td>2000</td>\n",
       "      <td>33762</td>\n",
       "      <td>2331</td>\n",
       "      <td>250</td>\n",
       "      <td>28</td>\n",
       "      <td>14</td>\n",
       "      <td>2</td>\n",
       "      <td>0</td>\n",
       "      <td>0</td>\n",
       "      <td>3</td>\n",
       "      <td>0</td>\n",
       "      <td>0</td>\n",
       "      <td>5</td>\n",
       "      <td>4</td>\n",
       "      <td>3</td>\n",
       "      <td>3</td>\n",
       "      <td>2</td>\n",
       "      <td>4</td>\n",
       "    </tr>\n",
       "  </tbody>\n",
       "</table>\n",
       "<p>500 rows × 19 columns</p>\n",
       "</div>"
      ],
      "text/plain": [
       "     Index  Area      OE   COb  Area_left  considerble trees  \\\n",
       "0        1  3760   63038  4389        470                 52   \n",
       "1        2  4310   72482  5019        539                 60   \n",
       "2        3  5773   96918  6741        722                 80   \n",
       "3        4  4384   73692  5103        548                 61   \n",
       "4        5  7249  121723  8463        906                101   \n",
       "..     ...   ...     ...   ...        ...                ...   \n",
       "495    496  5146   86515  6006        643                 72   \n",
       "496    497  7517  126327  8757        940                104   \n",
       "497    498  7269  122210  8484        909                101   \n",
       "498    499  4637   77927  5397        580                 64   \n",
       "499    500  2000   33762  2331        250                 28   \n",
       "\n",
       "     considerable plants  Neem  Ash  Willow  Poplar  Ashok  Arjuna  \\\n",
       "0                     26     3    1       1       1      0       1   \n",
       "1                     30     3    1       1       1      0       1   \n",
       "2                     40     3    1       1       1      0       1   \n",
       "3                     30     3    1       1       2      2       1   \n",
       "4                     50     4    2       2       3      2       2   \n",
       "..                   ...   ...  ...     ...     ...    ...     ...   \n",
       "495                   36     2    0       0       1      0       0   \n",
       "496                   52     4    1       1       4      1       1   \n",
       "497                   50     4    1       2       3      1       1   \n",
       "498                   32     3    1       1       2      1       0   \n",
       "499                   14     2    0       0       3      0       0   \n",
       "\n",
       "     Areca_palm  Weeping_fig  Grebera_Daisy  Aloe_vera  Tulsi  Pothos_plant  \n",
       "0             6            4              4          3      7             5  \n",
       "1             6            4              4          3      7             6  \n",
       "2             6            5              3          4      8             7  \n",
       "3             7            7              8          5     13             6  \n",
       "4             9            5              3          4      8             9  \n",
       "..          ...          ...            ...        ...    ...           ...  \n",
       "495           2            0              7          7      5             6  \n",
       "496           9            8              9          7     15             8  \n",
       "497           4            9              7          8      5             5  \n",
       "498           5            6              5          5      6             8  \n",
       "499           5            4              3          3      2             4  \n",
       "\n",
       "[500 rows x 19 columns]"
      ]
     },
     "execution_count": 23,
     "metadata": {},
     "output_type": "execute_result"
    }
   ],
   "source": [
    "df"
   ]
  },
  {
   "cell_type": "code",
   "execution_count": 24,
   "metadata": {},
   "outputs": [],
   "source": [
    "#Thresholds 200, \n",
    "thresholds = [200,300,400,500,600,700,800,900]\n",
    "Neem = []\n",
    "Ash = []\n",
    "Willow = []\n",
    "Poplar = []\n",
    "Ashok = []\n",
    "Arjuna = []\n",
    "Areca_palm = []\n",
    "Weeping_fig = []\n",
    "Grebera_Daisy = []\n",
    "Aloe_vera = []\n",
    "Tulsi = []\n",
    "#Pothos_plant = []\n",
    "\n",
    "    "
   ]
  },
  {
   "cell_type": "code",
   "execution_count": 25,
   "metadata": {},
   "outputs": [],
   "source": [
    "for i in df['Area_left']:\n",
    "    if i > 199 and i < 300:\n",
    "        Neem.append(2)\n",
    "        Ash.append(0)\n",
    "        Willow.append(0)\n",
    "        Poplar.append(1)\n",
    "        Ashok.append(0)\n",
    "        Arjuna.append(0)\n",
    "        Areca_palm.append(2)\n",
    "        Weeping_fig.append(2)\n",
    "        Grebera_Daisy.append(3)\n",
    "        Aloe_vera.append(3)\n",
    "        Tulsi.append(3)\n",
    "        #Pothos_plant.append(2)\n",
    "    elif i > 300 and i < 400: \n",
    "        Neem.append(3)\n",
    "        Ash.append(1)\n",
    "        Willow.append(0)\n",
    "        Poplar.append(1)\n",
    "        Ashok.append(0)\n",
    "        Arjuna.append(1)\n",
    "        Areca_palm.append(3)\n",
    "        Weeping_fig.append(2)\n",
    "        Grebera_Daisy.append(2)\n",
    "        Aloe_vera.append(2)\n",
    "        Tulsi.append(5)\n",
    "        #Pothos_plant.append(5)\n",
    "    elif i > 400 and i < 500: \n",
    "        Neem.append(3)\n",
    "        Ash.append(1)\n",
    "        Willow.append(1)\n",
    "        Poplar.append(1)\n",
    "        Ashok.append(0)\n",
    "        Arjuna.append(1)\n",
    "        Areca_palm.append(6)\n",
    "        Weeping_fig.append(4)\n",
    "        Grebera_Daisy.append(4)\n",
    "        Aloe_vera.append(3)\n",
    "        Tulsi.append(7)\n",
    "        #Pothos_plant.append(5)\n",
    "    elif i > 500 and i < 600: \n",
    "        Neem.append(3)\n",
    "        Ash.append(1)\n",
    "        Willow.append(1)\n",
    "        Poplar.append(2)\n",
    "        Ashok.append(2)\n",
    "        Arjuna.append(1)\n",
    "        Areca_palm.append(7)\n",
    "        Weeping_fig.append(5)\n",
    "        Grebera_Daisy.append(3)\n",
    "        Aloe_vera.append(4)\n",
    "        Tulsi.append(8)\n",
    "        #Pothos_plant.append(6)\n",
    "    elif i > 600 and i < 700: \n",
    "        Neem.append(4)\n",
    "        Ash.append(1)\n",
    "        Willow.append(1)\n",
    "        Poplar.append(3)\n",
    "        Ashok.append(1)\n",
    "        Arjuna.append(2)\n",
    "        Areca_palm.append(6)\n",
    "        Weeping_fig.append(6)\n",
    "        Grebera_Daisy.append(6)\n",
    "        Aloe_vera.append(3)\n",
    "        Tulsi.append(10)\n",
    "        #Pothos_plant.append(6)\n",
    "    elif i > 700 and i < 800: \n",
    "        Neem.append(4)\n",
    "        Ash.append(2)\n",
    "        Willow.append(2)\n",
    "        Poplar.append(3)\n",
    "        Ashok.append(2)\n",
    "        Arjuna.append(2)\n",
    "        Areca_palm.append(9)\n",
    "        Weeping_fig.append(7)\n",
    "        Grebera_Daisy.append(8)\n",
    "        Aloe_vera.append(5)\n",
    "        Tulsi.append(13)\n",
    "        #Pothos_plant.append(7)\n",
    "    elif i > 800 and i < 900: \n",
    "        Neem.append(5)\n",
    "        Ash.append(2) \n",
    "        Willow.append(2)\n",
    "        Poplar.append(4)\n",
    "        Ashok.append(2)\n",
    "        Arjuna.append(3)\n",
    "        Areca_palm.append(10)\n",
    "        Weeping_fig.append(9)\n",
    "        Grebera_Daisy.append(12)\n",
    "        Aloe_vera.append(10)\n",
    "        Tulsi.append(15)\n",
    "        #Pothos_plant.append(8)\n",
    "    elif i > 900: \n",
    "        Neem.append(4)\n",
    "        Ash.append(3)\n",
    "        Willow.append(2)\n",
    "        Poplar.append(4)\n",
    "        Ashok.append(2)\n",
    "        Arjuna.append(3)\n",
    "        Areca_palm.append(10)\n",
    "        Weeping_fig.append(13)\n",
    "        Grebera_Daisy.append(8)\n",
    "        Aloe_vera.append(8)\n",
    "        Tulsi.append(19)\n",
    "        #Pothos_plant.append(9)\n",
    "    \n",
    "    "
   ]
  },
  {
   "cell_type": "code",
   "execution_count": 26,
   "metadata": {},
   "outputs": [],
   "source": [
    "dict_df = {\n",
    "    \"Neem\":Neem,\n",
    "    \"Ash\":Ash ,\n",
    "    \"Willow\":Willow ,\n",
    "    \"Poplar\":Poplar ,\n",
    "    \"Ashok\":Ashok ,\n",
    "    \"Arjuna\":Arjuna, \n",
    "    \"Areca_palm\":Areca_palm , \n",
    "    \"Weeping_fig\":Weeping_fig, \n",
    "    \"Grebera_Daisy\":Grebera_Daisy, \n",
    "    \"Aloe_vera\":Aloe_vera ,\n",
    "    \"Tulsi\":Tulsi ,\n",
    "\n",
    "}"
   ]
  },
  {
   "cell_type": "code",
   "execution_count": 27,
   "metadata": {},
   "outputs": [
    {
     "name": "stdout",
     "output_type": "stream",
     "text": [
      "Neem --> 494\n",
      "Ash --> 494\n",
      "Willow --> 494\n",
      "Poplar --> 494\n",
      "Ashok --> 494\n",
      "Arjuna --> 494\n",
      "Areca_palm --> 494\n",
      "Weeping_fig --> 494\n",
      "Grebera_Daisy --> 494\n",
      "Aloe_vera --> 494\n",
      "Tulsi --> 494\n"
     ]
    }
   ],
   "source": [
    "for key,value in dict_df.items(): \n",
    "    print(key,\"-->\",len(value))"
   ]
  },
  {
   "cell_type": "code",
   "execution_count": 29,
   "metadata": {},
   "outputs": [],
   "source": [
    "df2 = pd.DataFrame(dict_df)"
   ]
  },
  {
   "cell_type": "code",
   "execution_count": 30,
   "metadata": {},
   "outputs": [],
   "source": [
    "df2.to_csv(\"QML-outputvaribales_dataset.csv\")"
   ]
  },
  {
   "cell_type": "raw",
   "metadata": {},
   "source": [
    "Trees \tArea Occ\t  Plants\t        Area Occ\n",
    "Neem \t 80\t        Areca palm \t          30\n",
    "Ash \t 150\t    Weeping fig \t      30\n",
    "Willow \t 250\t    Grebera Daisy \t      20\n",
    "Poplar \t 70\t        Aloe vera \t          20\n",
    "Ashok \t 225\t    Tulsi \t              30\n",
    "Arjuna \t 150\t    Pothos plant \t      30"
   ]
  },
  {
   "cell_type": "code",
   "execution_count": 33,
   "metadata": {},
   "outputs": [],
   "source": [
    "x1 = df[['Area','OE','COb','Area_left','considerble trees','considerable plants']].values \n",
    "y1 = df[['Neem','Ash','Willow','Poplar','Ashok','Arjuna','Areca_palm','Weeping_fig','Grebera_Daisy'\n",
    "          ,'Aloe_vera','Tulsi','Pothos_plant']].values"
   ]
  },
  {
   "cell_type": "code",
   "execution_count": 34,
   "metadata": {},
   "outputs": [],
   "source": [
    "from sklearn.model_selection import train_test_split\n",
    "train_x,test_x,train_y,test_y = train_test_split(x1,y1,test_size=0.2)\n"
   ]
  },
  {
   "cell_type": "code",
   "execution_count": 35,
   "metadata": {},
   "outputs": [],
   "source": [
    "from sklearn.linear_model import LinearRegression"
   ]
  },
  {
   "cell_type": "code",
   "execution_count": 36,
   "metadata": {},
   "outputs": [],
   "source": [
    "ln = LinearRegression()"
   ]
  },
  {
   "cell_type": "code",
   "execution_count": 37,
   "metadata": {},
   "outputs": [
    {
     "data": {
      "text/plain": [
       "LinearRegression()"
      ]
     },
     "execution_count": 37,
     "metadata": {},
     "output_type": "execute_result"
    }
   ],
   "source": [
    "ln.fit(train_x,train_y)"
   ]
  },
  {
   "cell_type": "code",
   "execution_count": 38,
   "metadata": {},
   "outputs": [],
   "source": [
    "a = ln.predict(test_x)"
   ]
  },
  {
   "cell_type": "code",
   "execution_count": 39,
   "metadata": {},
   "outputs": [
    {
     "data": {
      "text/plain": [
       "array([[ 3.42798018,  1.29013398,  1.09796925, ...,  5.96822604,\n",
       "        11.43791041,  6.9407071 ],\n",
       "       [ 3.4578583 ,  1.44147174,  1.13857709, ...,  5.33610219,\n",
       "         9.93170651,  5.31292099],\n",
       "       [ 3.5100497 ,  1.46070793,  1.16818647, ...,  5.06881454,\n",
       "        10.29829065,  6.17809231],\n",
       "       ...,\n",
       "       [ 3.62946245,  1.55151544,  1.2773328 , ...,  4.97995745,\n",
       "        10.50281221,  6.03834387],\n",
       "       [ 3.61988128,  1.3774844 ,  1.20242668, ...,  5.56799933,\n",
       "        11.41741689,  7.19168887],\n",
       "       [ 3.57961912,  1.53481394,  1.17068284, ...,  4.866925  ,\n",
       "         9.68332848,  5.55113504]])"
      ]
     },
     "execution_count": 39,
     "metadata": {},
     "output_type": "execute_result"
    }
   ],
   "source": [
    "a"
   ]
  },
  {
   "cell_type": "code",
   "execution_count": 47,
   "metadata": {},
   "outputs": [],
   "source": [
    "from sklearn.metrics import r2_score\n",
    "from sklearn.metrics import mean_squared_error"
   ]
  },
  {
   "cell_type": "code",
   "execution_count": 44,
   "metadata": {},
   "outputs": [],
   "source": [
    "r2 = r2_score(test_y,a)"
   ]
  },
  {
   "cell_type": "code",
   "execution_count": 45,
   "metadata": {},
   "outputs": [
    {
     "data": {
      "text/plain": [
       "0.01363550759043695"
      ]
     },
     "execution_count": 45,
     "metadata": {},
     "output_type": "execute_result"
    }
   ],
   "source": [
    "print(\"The R2 socre is: \",r2)"
   ]
  },
  {
   "cell_type": "code",
   "execution_count": 48,
   "metadata": {},
   "outputs": [],
   "source": [
    "mse = mean_squared_error(test_y,a)"
   ]
  },
  {
   "cell_type": "code",
   "execution_count": 49,
   "metadata": {},
   "outputs": [
    {
     "data": {
      "text/plain": [
       "5.732984094046189"
      ]
     },
     "execution_count": 49,
     "metadata": {},
     "output_type": "execute_result"
    }
   ],
   "source": [
    "mse"
   ]
  }
 ],
 "metadata": {
  "kernelspec": {
   "display_name": "Python 3",
   "language": "python",
   "name": "python3"
  },
  "language_info": {
   "codemirror_mode": {
    "name": "ipython",
    "version": 3
   },
   "file_extension": ".py",
   "mimetype": "text/x-python",
   "name": "python",
   "nbconvert_exporter": "python",
   "pygments_lexer": "ipython3",
   "version": "3.8.2"
  }
 },
 "nbformat": 4,
 "nbformat_minor": 4
}
